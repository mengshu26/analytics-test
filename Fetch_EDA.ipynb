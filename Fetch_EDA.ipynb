{
 "cells": [
  {
   "cell_type": "code",
   "execution_count": 1,
   "id": "comparative-burst",
   "metadata": {},
   "outputs": [],
   "source": [
    "import json"
   ]
  },
  {
   "cell_type": "markdown",
   "id": "advanced-istanbul",
   "metadata": {},
   "source": [
    "### loading files"
   ]
  },
  {
   "cell_type": "code",
   "execution_count": 11,
   "id": "gross-anniversary",
   "metadata": {},
   "outputs": [],
   "source": [
    "users = []\n",
    "for line in open('users.json', 'r'):\n",
    "    users.append(json.loads(line))"
   ]
  },
  {
   "cell_type": "code",
   "execution_count": 15,
   "id": "saved-investment",
   "metadata": {},
   "outputs": [],
   "source": [
    "receipts = []\n",
    "for line in open('receipts.json', 'r'):\n",
    "    receipts.append(json.loads(line))"
   ]
  },
  {
   "cell_type": "code",
   "execution_count": null,
   "id": "complex-mailing",
   "metadata": {},
   "outputs": [],
   "source": [
    "brands = []\n",
    "for line in open('brands.json', 'r'):\n",
    "    brands.append(json.loads(line))"
   ]
  },
  {
   "cell_type": "markdown",
   "id": "greater-weekly",
   "metadata": {},
   "source": [
    "### checking out dictionary keys"
   ]
  },
  {
   "cell_type": "code",
   "execution_count": 112,
   "id": "antique-valley",
   "metadata": {},
   "outputs": [],
   "source": [
    "def get_keys(d_or_l, keys_list):\n",
    "    if isinstance(d_or_l, dict):\n",
    "        for k, v in iter(sorted(d_or_l.items())):\n",
    "            if isinstance(v, list):\n",
    "                get_keys(v, keys_list)\n",
    "            elif isinstance(v, dict):\n",
    "                get_keys(v, keys_list)\n",
    "            keys_list.append(k)   #  Altered line\n",
    "    elif isinstance(d_or_l, list):\n",
    "        for i in d_or_l:\n",
    "            if isinstance(i, list):\n",
    "                get_keys(i, keys_list)\n",
    "            elif isinstance(i, dict):\n",
    "                get_keys(i, keys_list)\n",
    "    else:\n",
    "        print(\"** Skipping item of type: {}\".format(type(d_or_l)))"
   ]
  },
  {
   "cell_type": "code",
   "execution_count": 113,
   "id": "innocent-paintball",
   "metadata": {},
   "outputs": [
    {
     "name": "stdout",
     "output_type": "stream",
     "text": [
      "['needsFetchReview', 'originalFinalPrice', 'userFlaggedNewItem', 'partnerItemId', 'dateScanned', 'itemPrice', 'createDate', 'description', 'userFlaggedBarcode', 'bonusPointsEarnedReason', 'totalSpent', 'itemNumber', 'finishedDate', 'originalReceiptItemText', 'priceAfterCoupon', 'barcode', 'pointsAwardedDate', '$date', 'preventTargetGapPoints', 'needsFetchReviewReason', 'originalMetaBriteDescription', 'deleted', 'purchasedItemCount', 'userFlaggedDescription', 'targetPrice', 'originalMetaBriteItemPrice', '$oid', 'userId', 'userFlaggedQuantity', 'competitiveProduct', 'pointsEarned', 'modifyDate', 'pointsPayerId', 'rewardsReceiptItemList', 'brandCode', 'metabriteCampaignId', 'finalPrice', 'discountedItemPrice', 'rewardsGroup', '_id', 'originalMetaBriteBarcode', 'bonusPointsEarned', 'competitorRewardsGroup', 'pointsNotAwardedReason', 'quantityPurchased', 'userFlaggedPrice', 'rewardsReceiptStatus', 'originalMetaBriteQuantityPurchased', 'rewardsProductPartnerId', 'purchaseDate']\n"
     ]
    }
   ],
   "source": [
    "receipt_keys = []\n",
    "for index, i in enumerate(receipts):\n",
    "    get_keys(i, receipt_keys)\n",
    "\n",
    "print(list(set(receipt_keys)))"
   ]
  },
  {
   "cell_type": "code",
   "execution_count": 114,
   "id": "greatest-programming",
   "metadata": {},
   "outputs": [
    {
     "name": "stdout",
     "output_type": "stream",
     "text": [
      "['$date', 'state', 'active', 'lastLogin', 'role', 'createdDate', '$oid', 'signUpSource', '_id']\n"
     ]
    }
   ],
   "source": [
    "user_keys = []\n",
    "for index, i in enumerate(users):\n",
    "    get_keys(i, user_keys)\n",
    "\n",
    "print(list(set(user_keys)))"
   ]
  },
  {
   "cell_type": "code",
   "execution_count": 115,
   "id": "aggressive-complement",
   "metadata": {},
   "outputs": [
    {
     "name": "stdout",
     "output_type": "stream",
     "text": [
      "['category', 'cpg', 'brandCode', '$id', '$oid', 'categoryCode', '_id', 'name', '$ref', 'topBrand', 'barcode']\n"
     ]
    }
   ],
   "source": [
    "brands_keys = []\n",
    "for index, i in enumerate(brands):\n",
    "    get_keys(i, brands_keys)\n",
    "\n",
    "print(list(set(brands_keys)))"
   ]
  },
  {
   "cell_type": "code",
   "execution_count": 124,
   "id": "lesbian-given",
   "metadata": {},
   "outputs": [
    {
     "data": {
      "text/plain": [
       "{'_id': {'$oid': '5cdad0f5166eb33eb7ce0faa'},\n",
       " 'name': 'J.L. Kraft',\n",
       " 'cpg': {'$ref': 'Cogs', '$id': {'$oid': '559c2234e4b06aca36af13c6'}},\n",
       " 'category': 'Condiments & Sauces',\n",
       " 'barcode': '511111104810',\n",
       " 'brandCode': 'J.L. KRAFT'}"
      ]
     },
     "execution_count": 124,
     "metadata": {},
     "output_type": "execute_result"
    }
   ],
   "source": [
    "brands[7]"
   ]
  },
  {
   "cell_type": "code",
   "execution_count": 100,
   "id": "finnish-municipality",
   "metadata": {},
   "outputs": [
    {
     "data": {
      "text/plain": [
       "dict_keys(['barcode', 'description', 'finalPrice', 'itemPrice', 'needsFetchReview', 'partnerItemId', 'preventTargetGapPoints', 'quantityPurchased', 'userFlaggedBarcode', 'userFlaggedNewItem', 'userFlaggedPrice', 'userFlaggedQuantity'])"
      ]
     },
     "execution_count": 100,
     "metadata": {},
     "output_type": "execute_result"
    }
   ],
   "source": [
    "receipts[0]['rewardsReceiptItemList'][0].keys()"
   ]
  },
  {
   "cell_type": "code",
   "execution_count": 91,
   "id": "american-stocks",
   "metadata": {},
   "outputs": [
    {
     "data": {
      "text/plain": [
       "dict_keys(['_id', 'bonusPointsEarned', 'bonusPointsEarnedReason', 'createDate', 'dateScanned', 'finishedDate', 'modifyDate', 'pointsAwardedDate', 'pointsEarned', 'purchaseDate', 'purchasedItemCount', 'rewardsReceiptItemList', 'rewardsReceiptStatus', 'totalSpent', 'userId'])"
      ]
     },
     "execution_count": 91,
     "metadata": {},
     "output_type": "execute_result"
    }
   ],
   "source": [
    "receipts[0].keys()"
   ]
  },
  {
   "cell_type": "code",
   "execution_count": null,
   "id": "coupled-ridge",
   "metadata": {},
   "outputs": [],
   "source": [
    "#check for duplicates \n",
    "# check certain columns for what was expected vs what came out \n",
    "# check if every receipt only has 1 row. "
   ]
  },
  {
   "cell_type": "code",
   "execution_count": 131,
   "id": "sensitive-respect",
   "metadata": {},
   "outputs": [
    {
     "data": {
      "text/plain": [
       "{'_id': {'$oid': '5ff1e194b6a9d73a3a9f1052'},\n",
       " 'active': True,\n",
       " 'createdDate': {'$date': 1609687444800},\n",
       " 'lastLogin': {'$date': 1609687537858},\n",
       " 'role': 'consumer',\n",
       " 'signUpSource': 'Email',\n",
       " 'state': 'WI'}"
      ]
     },
     "execution_count": 131,
     "metadata": {},
     "output_type": "execute_result"
    }
   ],
   "source": [
    "users[4]"
   ]
  },
  {
   "cell_type": "code",
   "execution_count": null,
   "id": "sticky-peninsula",
   "metadata": {},
   "outputs": [],
   "source": []
  },
  {
   "cell_type": "code",
   "execution_count": null,
   "id": "recovered-salvation",
   "metadata": {},
   "outputs": [],
   "source": []
  },
  {
   "cell_type": "code",
   "execution_count": null,
   "id": "crude-repeat",
   "metadata": {},
   "outputs": [],
   "source": []
  },
  {
   "cell_type": "code",
   "execution_count": null,
   "id": "invisible-freeware",
   "metadata": {},
   "outputs": [],
   "source": []
  },
  {
   "cell_type": "code",
   "execution_count": null,
   "id": "associate-logistics",
   "metadata": {},
   "outputs": [],
   "source": []
  }
 ],
 "metadata": {
  "kernelspec": {
   "display_name": "Python 3",
   "language": "python",
   "name": "python3"
  },
  "language_info": {
   "codemirror_mode": {
    "name": "ipython",
    "version": 3
   },
   "file_extension": ".py",
   "mimetype": "text/x-python",
   "name": "python",
   "nbconvert_exporter": "python",
   "pygments_lexer": "ipython3",
   "version": "3.9.4"
  }
 },
 "nbformat": 4,
 "nbformat_minor": 5
}
